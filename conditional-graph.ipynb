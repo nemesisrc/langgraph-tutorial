{
 "cells": [
  {
   "cell_type": "markdown",
   "id": "b98fb9c1",
   "metadata": {},
   "source": [
    "GRAPH 4 : CONDITIONAL GRAPH"
   ]
  },
  {
   "cell_type": "code",
   "execution_count": 5,
   "id": "817a35f9",
   "metadata": {},
   "outputs": [],
   "source": [
    "from typing import TypedDict\n",
    "from langgraph.graph import StateGraph\n",
    "from IPython.display import Image, display"
   ]
  },
  {
   "cell_type": "code",
   "execution_count": 6,
   "id": "8e6a977c",
   "metadata": {},
   "outputs": [],
   "source": [
    "# creating state for langgraph\n",
    "class AgentState(TypedDict):\n",
    "    number1 : int\n",
    "    operation : str\n",
    "    number2 : int\n",
    "    final_number : int"
   ]
  },
  {
   "cell_type": "code",
   "execution_count": 7,
   "id": "5ec250c4",
   "metadata": {},
   "outputs": [],
   "source": [
    "# creating nodes for the conditional graph\n",
    "def adder(state: AgentState) -> AgentState:\n",
    "    # this nodes adds number1 and number2\n",
    "    state['final_number'] = state['number1'] + state['number2']\n",
    "    return state\n",
    "\n",
    "def subtractor(state: AgentState) -> AgentState:\n",
    "    # this nodes subtracts number2 from number1\n",
    "    state['final_number'] = state['number1'] - state['number2']\n",
    "    return state\n",
    "\n",
    "def decide_next_node(state: AgentState) -> AgentState:\n",
    "    # this node will select the next node based on the operation\n",
    "    if state['operation'] == '+':\n",
    "        return 'addition_operation'\n",
    "    if state['operation'] == '-':\n",
    "        return 'subtraction_operation'"
   ]
  },
  {
   "cell_type": "code",
   "execution_count": null,
   "id": "ee22fe54",
   "metadata": {},
   "outputs": [],
   "source": [
    "# creating the conditional graph\n",
    "graph = StateGraph(AgentState)\n",
    "\n",
    "graph.add_node('add_node', adder)\n",
    "graph.add_node('subtract_node', subtractor)\n",
    "graph.add_node('router', decide_next_node)\n"
   ]
  }
 ],
 "metadata": {
  "kernelspec": {
   "display_name": "Python 3",
   "language": "python",
   "name": "python3"
  },
  "language_info": {
   "codemirror_mode": {
    "name": "ipython",
    "version": 3
   },
   "file_extension": ".py",
   "mimetype": "text/x-python",
   "name": "python",
   "nbconvert_exporter": "python",
   "pygments_lexer": "ipython3",
   "version": "3.11.9"
  }
 },
 "nbformat": 4,
 "nbformat_minor": 5
}
