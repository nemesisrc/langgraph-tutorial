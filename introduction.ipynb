{
 "cells": [
  {
   "cell_type": "markdown",
   "id": "d282a864-58db-4c02-9133-f929189f9a36",
   "metadata": {},
   "source": [
    "Section 01 - Type Annotations"
   ]
  },
  {
   "cell_type": "code",
   "execution_count": 34,
   "id": "09b344c9-200b-40af-9250-567ef2f2b89a",
   "metadata": {},
   "outputs": [
    {
     "name": "stdout",
     "output_type": "stream",
     "text": [
      "{'name': 'Avengers Endgame', 'year': 2019}\n",
      "Avengers Endgame\n",
      "2019\n"
     ]
    }
   ],
   "source": [
    "# typed dictionary\n",
    "from typing import TypedDict\n",
    "\n",
    "class Movie(TypedDict):\n",
    "    name: str\n",
    "    year:int\n",
    "\n",
    "movie = Movie(name=\"Avengers Endgame\", year=2019)\n",
    "print(movie)\n",
    "# movie.name, movie.year will throw error\n",
    "print(movie['name']) \n",
    "print(movie['year'])"
   ]
  },
  {
   "cell_type": "code",
   "execution_count": 35,
   "id": "6a25f731-75cd-4c1c-8fd8-f8b4e9c94fc3",
   "metadata": {},
   "outputs": [
    {
     "name": "stdout",
     "output_type": "stream",
     "text": [
      "25\n",
      "1.9993959999999997\n"
     ]
    }
   ],
   "source": [
    "# union\n",
    "from typing import Union\n",
    "\n",
    "def square(x: Union[int, float]) -> float:\n",
    "    return x*x\n",
    "\n",
    "x = 5\n",
    "print(square(x))\n",
    "\n",
    "X = 1.414\n",
    "print(square(X))\n",
    "\n",
    "# X = 'hello'\n",
    "# print(square(X)) will throw error due to type annotation using union"
   ]
  },
  {
   "cell_type": "code",
   "execution_count": 36,
   "id": "d378eaa2-08c9-402c-92fc-06799dfaa0a1",
   "metadata": {},
   "outputs": [
    {
     "name": "stdout",
     "output_type": "stream",
     "text": [
      "Hi nemesis !!\n",
      "None\n"
     ]
    }
   ],
   "source": [
    "# optional\n",
    "from typing import Optional\n",
    "\n",
    "def nice_message(name: Optional[str]) -> None:\n",
    "    if name is None:\n",
    "        print(\"Hello World!!\")\n",
    "    else:\n",
    "        print(f\"Hi {name} !!\")\n",
    "\n",
    "print(nice_message('nemesis'))"
   ]
  },
  {
   "cell_type": "code",
   "execution_count": 37,
   "id": "46164c0d",
   "metadata": {},
   "outputs": [
    {
     "name": "stdout",
     "output_type": "stream",
     "text": [
      "hello world\n"
     ]
    }
   ],
   "source": [
    "# any\n",
    "from typing import Any\n",
    "\n",
    "def print_value(x: Any):\n",
    "    print(x)\n",
    "\n",
    "print_value(\"hello world\")"
   ]
  },
  {
   "cell_type": "code",
   "execution_count": 38,
   "id": "7d25d33e-9e2e-4394-bb1d-40e59602ac07",
   "metadata": {},
   "outputs": [
    {
     "name": "stdout",
     "output_type": "stream",
     "text": [
      "100\n",
      "[1, 4, 9, 16]\n"
     ]
    }
   ],
   "source": [
    "# lambda function\n",
    "square = lambda x: x*x\n",
    "print(square(10))\n",
    "\n",
    "nums = [1,2,3,4]\n",
    "squares = list(map(lambda x: x*x, nums))\n",
    "print(squares)"
   ]
  },
  {
   "cell_type": "markdown",
   "id": "1f81f258-72cc-4e43-b296-8f886ea41145",
   "metadata": {},
   "source": [
    "Section 02 - Elements"
   ]
  },
  {
   "cell_type": "code",
   "execution_count": 39,
   "id": "1581f83c",
   "metadata": {},
   "outputs": [
    {
     "name": "stdout",
     "output_type": "stream",
     "text": [
      "Requirement already satisfied: langgraph in c:\\users\\rajde\\appdata\\local\\packages\\pythonsoftwarefoundation.python.3.11_qbz5n2kfra8p0\\localcache\\local-packages\\python311\\site-packages (0.4.7)\n",
      "Requirement already satisfied: langchain-core>=0.1 in c:\\users\\rajde\\appdata\\local\\packages\\pythonsoftwarefoundation.python.3.11_qbz5n2kfra8p0\\localcache\\local-packages\\python311\\site-packages (from langgraph) (0.3.61)\n",
      "Requirement already satisfied: langgraph-checkpoint>=2.0.26 in c:\\users\\rajde\\appdata\\local\\packages\\pythonsoftwarefoundation.python.3.11_qbz5n2kfra8p0\\localcache\\local-packages\\python311\\site-packages (from langgraph) (2.0.26)\n",
      "Requirement already satisfied: langgraph-prebuilt>=0.2.0 in c:\\users\\rajde\\appdata\\local\\packages\\pythonsoftwarefoundation.python.3.11_qbz5n2kfra8p0\\localcache\\local-packages\\python311\\site-packages (from langgraph) (0.2.1)\n",
      "Requirement already satisfied: langgraph-sdk>=0.1.42 in c:\\users\\rajde\\appdata\\local\\packages\\pythonsoftwarefoundation.python.3.11_qbz5n2kfra8p0\\localcache\\local-packages\\python311\\site-packages (from langgraph) (0.1.70)\n",
      "Requirement already satisfied: pydantic>=2.7.4 in c:\\users\\rajde\\appdata\\local\\packages\\pythonsoftwarefoundation.python.3.11_qbz5n2kfra8p0\\localcache\\local-packages\\python311\\site-packages (from langgraph) (2.11.2)\n",
      "Requirement already satisfied: xxhash>=3.5.0 in c:\\users\\rajde\\appdata\\local\\packages\\pythonsoftwarefoundation.python.3.11_qbz5n2kfra8p0\\localcache\\local-packages\\python311\\site-packages (from langgraph) (3.5.0)\n",
      "Requirement already satisfied: langsmith<0.4,>=0.1.126 in c:\\users\\rajde\\appdata\\local\\packages\\pythonsoftwarefoundation.python.3.11_qbz5n2kfra8p0\\localcache\\local-packages\\python311\\site-packages (from langchain-core>=0.1->langgraph) (0.3.42)\n",
      "Requirement already satisfied: tenacity!=8.4.0,<10.0.0,>=8.1.0 in c:\\users\\rajde\\appdata\\local\\packages\\pythonsoftwarefoundation.python.3.11_qbz5n2kfra8p0\\localcache\\local-packages\\python311\\site-packages (from langchain-core>=0.1->langgraph) (9.1.2)\n",
      "Requirement already satisfied: jsonpatch<2.0,>=1.33 in c:\\users\\rajde\\appdata\\local\\packages\\pythonsoftwarefoundation.python.3.11_qbz5n2kfra8p0\\localcache\\local-packages\\python311\\site-packages (from langchain-core>=0.1->langgraph) (1.33)\n",
      "Requirement already satisfied: PyYAML>=5.3 in c:\\users\\rajde\\appdata\\local\\packages\\pythonsoftwarefoundation.python.3.11_qbz5n2kfra8p0\\localcache\\local-packages\\python311\\site-packages (from langchain-core>=0.1->langgraph) (6.0.2)\n",
      "Requirement already satisfied: packaging<25,>=23.2 in c:\\users\\rajde\\appdata\\local\\packages\\pythonsoftwarefoundation.python.3.11_qbz5n2kfra8p0\\localcache\\local-packages\\python311\\site-packages (from langchain-core>=0.1->langgraph) (24.1)\n",
      "Requirement already satisfied: typing-extensions>=4.7 in c:\\users\\rajde\\appdata\\local\\packages\\pythonsoftwarefoundation.python.3.11_qbz5n2kfra8p0\\localcache\\local-packages\\python311\\site-packages (from langchain-core>=0.1->langgraph) (4.12.2)\n",
      "Requirement already satisfied: jsonpointer>=1.9 in c:\\users\\rajde\\appdata\\local\\packages\\pythonsoftwarefoundation.python.3.11_qbz5n2kfra8p0\\localcache\\local-packages\\python311\\site-packages (from jsonpatch<2.0,>=1.33->langchain-core>=0.1->langgraph) (3.0.0)\n",
      "Requirement already satisfied: httpx<1,>=0.23.0 in c:\\users\\rajde\\appdata\\local\\packages\\pythonsoftwarefoundation.python.3.11_qbz5n2kfra8p0\\localcache\\local-packages\\python311\\site-packages (from langsmith<0.4,>=0.1.126->langchain-core>=0.1->langgraph) (0.27.2)\n",
      "Requirement already satisfied: orjson<4.0.0,>=3.9.14 in c:\\users\\rajde\\appdata\\local\\packages\\pythonsoftwarefoundation.python.3.11_qbz5n2kfra8p0\\localcache\\local-packages\\python311\\site-packages (from langsmith<0.4,>=0.1.126->langchain-core>=0.1->langgraph) (3.10.18)\n",
      "Requirement already satisfied: requests<3,>=2 in c:\\users\\rajde\\appdata\\local\\packages\\pythonsoftwarefoundation.python.3.11_qbz5n2kfra8p0\\localcache\\local-packages\\python311\\site-packages (from langsmith<0.4,>=0.1.126->langchain-core>=0.1->langgraph) (2.32.3)\n",
      "Requirement already satisfied: requests-toolbelt<2.0.0,>=1.0.0 in c:\\users\\rajde\\appdata\\local\\packages\\pythonsoftwarefoundation.python.3.11_qbz5n2kfra8p0\\localcache\\local-packages\\python311\\site-packages (from langsmith<0.4,>=0.1.126->langchain-core>=0.1->langgraph) (1.0.0)\n",
      "Requirement already satisfied: zstandard<0.24.0,>=0.23.0 in c:\\users\\rajde\\appdata\\local\\packages\\pythonsoftwarefoundation.python.3.11_qbz5n2kfra8p0\\localcache\\local-packages\\python311\\site-packages (from langsmith<0.4,>=0.1.126->langchain-core>=0.1->langgraph) (0.23.0)\n",
      "Requirement already satisfied: anyio in c:\\users\\rajde\\appdata\\local\\packages\\pythonsoftwarefoundation.python.3.11_qbz5n2kfra8p0\\localcache\\local-packages\\python311\\site-packages (from httpx<1,>=0.23.0->langsmith<0.4,>=0.1.126->langchain-core>=0.1->langgraph) (4.4.0)\n",
      "Requirement already satisfied: certifi in c:\\users\\rajde\\appdata\\local\\packages\\pythonsoftwarefoundation.python.3.11_qbz5n2kfra8p0\\localcache\\local-packages\\python311\\site-packages (from httpx<1,>=0.23.0->langsmith<0.4,>=0.1.126->langchain-core>=0.1->langgraph) (2024.8.30)\n",
      "Requirement already satisfied: httpcore==1.* in c:\\users\\rajde\\appdata\\local\\packages\\pythonsoftwarefoundation.python.3.11_qbz5n2kfra8p0\\localcache\\local-packages\\python311\\site-packages (from httpx<1,>=0.23.0->langsmith<0.4,>=0.1.126->langchain-core>=0.1->langgraph) (1.0.5)\n",
      "Requirement already satisfied: idna in c:\\users\\rajde\\appdata\\local\\packages\\pythonsoftwarefoundation.python.3.11_qbz5n2kfra8p0\\localcache\\local-packages\\python311\\site-packages (from httpx<1,>=0.23.0->langsmith<0.4,>=0.1.126->langchain-core>=0.1->langgraph) (3.8)\n",
      "Requirement already satisfied: sniffio in c:\\users\\rajde\\appdata\\local\\packages\\pythonsoftwarefoundation.python.3.11_qbz5n2kfra8p0\\localcache\\local-packages\\python311\\site-packages (from httpx<1,>=0.23.0->langsmith<0.4,>=0.1.126->langchain-core>=0.1->langgraph) (1.3.1)\n",
      "Requirement already satisfied: h11<0.15,>=0.13 in c:\\users\\rajde\\appdata\\local\\packages\\pythonsoftwarefoundation.python.3.11_qbz5n2kfra8p0\\localcache\\local-packages\\python311\\site-packages (from httpcore==1.*->httpx<1,>=0.23.0->langsmith<0.4,>=0.1.126->langchain-core>=0.1->langgraph) (0.14.0)\n",
      "Requirement already satisfied: annotated-types>=0.6.0 in c:\\users\\rajde\\appdata\\local\\packages\\pythonsoftwarefoundation.python.3.11_qbz5n2kfra8p0\\localcache\\local-packages\\python311\\site-packages (from pydantic>=2.7.4->langgraph) (0.7.0)\n",
      "Requirement already satisfied: pydantic-core==2.33.1 in c:\\users\\rajde\\appdata\\local\\packages\\pythonsoftwarefoundation.python.3.11_qbz5n2kfra8p0\\localcache\\local-packages\\python311\\site-packages (from pydantic>=2.7.4->langgraph) (2.33.1)\n",
      "Requirement already satisfied: typing-inspection>=0.4.0 in c:\\users\\rajde\\appdata\\local\\packages\\pythonsoftwarefoundation.python.3.11_qbz5n2kfra8p0\\localcache\\local-packages\\python311\\site-packages (from pydantic>=2.7.4->langgraph) (0.4.0)\n",
      "Requirement already satisfied: charset-normalizer<4,>=2 in c:\\users\\rajde\\appdata\\local\\packages\\pythonsoftwarefoundation.python.3.11_qbz5n2kfra8p0\\localcache\\local-packages\\python311\\site-packages (from requests<3,>=2->langsmith<0.4,>=0.1.126->langchain-core>=0.1->langgraph) (3.3.2)\n",
      "Requirement already satisfied: urllib3<3,>=1.21.1 in c:\\users\\rajde\\appdata\\local\\packages\\pythonsoftwarefoundation.python.3.11_qbz5n2kfra8p0\\localcache\\local-packages\\python311\\site-packages (from requests<3,>=2->langsmith<0.4,>=0.1.126->langchain-core>=0.1->langgraph) (2.2.2)\n",
      "Requirement already satisfied: ormsgpack<2.0.0,>=1.8.0 in c:\\users\\rajde\\appdata\\local\\packages\\pythonsoftwarefoundation.python.3.11_qbz5n2kfra8p0\\localcache\\local-packages\\python311\\site-packages (from langgraph-checkpoint>=2.0.26->langgraph) (1.9.1)\n",
      "Note: you may need to restart the kernel to use updated packages.\n"
     ]
    }
   ],
   "source": [
    "%pip install langgraph"
   ]
  },
  {
   "cell_type": "markdown",
   "id": "e289fc4b",
   "metadata": {},
   "source": [
    "GRAPH 1 : BASIC GRAPH"
   ]
  },
  {
   "cell_type": "code",
   "execution_count": 40,
   "id": "bc940290",
   "metadata": {},
   "outputs": [],
   "source": [
    "#creating our first langgraph\n",
    "from typing import TypedDict\n",
    "from langgraph.graph import StateGraph  #framework that helps to design and manage the flow of tasks in our application using a graph"
   ]
  },
  {
   "cell_type": "code",
   "execution_count": 41,
   "id": "4760fe72",
   "metadata": {},
   "outputs": [],
   "source": [
    "#now we create an AgentState - shared data structure that keeps track of information as our application runs\n",
    "class AgentState(TypedDict):  #our state schema\n",
    "    message: str\n",
    "\n",
    "#creating our first node\n",
    "def greeting_node(state: AgentState) -> AgentState:\n",
    "    # simple node that adds a greeting message to the state\n",
    "    state['message'] = \"Hi \" + state['message'] + \", welcome to LangGraph tutorial !!\"\n",
    "    return state"
   ]
  },
  {
   "cell_type": "code",
   "execution_count": 42,
   "id": "87fe3e43",
   "metadata": {},
   "outputs": [],
   "source": [
    "#creating langgraph\n",
    "graph = StateGraph(AgentState)\n",
    "\n",
    "graph.add_node(\"greeter\", greeting_node)\n",
    "\n",
    "graph.set_entry_point(\"greeter\") #setting the entry point of our graph and connecting it to the greet node\n",
    "graph.set_finish_point(\"greeter\") #setting the exit point of our graph and connecting it to the greet node\n",
    "\n",
    "app = graph.compile() #compiling the graph to create an application"
   ]
  },
  {
   "cell_type": "code",
   "execution_count": 43,
   "id": "d5fe3a39",
   "metadata": {},
   "outputs": [
    {
     "data": {
      "image/png": "[encoded data removed]",
      "text/plain": [
       "<IPython.core.display.Image object>"
      ]
     },
     "metadata": {},
     "output_type": "display_data"
    }
   ],
   "source": [
    "#visualise the graph\n",
    "from IPython.display import Image, display\n",
    "display(Image(app.get_graph().draw_mermaid_png()))"
   ]
  },
  {
   "cell_type": "code",
   "execution_count": 44,
   "id": "34b8f528",
   "metadata": {},
   "outputs": [
    {
     "data": {
      "text/plain": [
       "'Hi Nemesis, welcome to LangGraph tutorial !!'"
      ]
     },
     "execution_count": 44,
     "metadata": {},
     "output_type": "execute_result"
    }
   ],
   "source": [
    "result = app.invoke({\"message\" : \"Nemesis\"})\n",
    "result[\"message\"]"
   ]
  }
 ],
 "metadata": {
  "kernelspec": {
   "display_name": "Python 3",
   "language": "python",
   "name": "python3"
  },
  "language_info": {
   "codemirror_mode": {
    "name": "ipython",
    "version": 3
   },
   "file_extension": ".py",
   "mimetype": "text/x-python",
   "name": "python",
   "nbconvert_exporter": "python",
   "pygments_lexer": "ipython3",
   "version": "3.11.9"
  }
 },
 "nbformat": 4,
 "nbformat_minor": 5
}
